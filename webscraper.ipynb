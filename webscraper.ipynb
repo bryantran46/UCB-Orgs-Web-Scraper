{
 "cells": [
  {
   "cell_type": "code",
   "execution_count": 2,
   "id": "0f16901d",
   "metadata": {},
   "outputs": [],
   "source": [
    "import requests\n",
    "from bs4 import BeautifulSoup\n",
    "import re\n",
    "import json\n",
    "from selenium import webdriver \n",
    "from selenium.webdriver.common.by import By\n",
    "from selenium.webdriver.support.wait import WebDriverWait\n",
    "from selenium.webdriver.support import expected_conditions as EC"
   ]
  },
  {
   "cell_type": "code",
   "execution_count": 3,
   "id": "b2515a1d-fcff-4d28-bdef-55e500befec9",
   "metadata": {
    "tags": []
   },
   "outputs": [],
   "source": [
    "# initialize an instance of the chrome driver (browser)\n",
    "driver = webdriver.Chrome()\n",
    "# visit your target site\n",
    "driver.get('https://callink.berkeley.edu/Organizations')"
   ]
  },
  {
   "cell_type": "code",
   "execution_count": 8,
   "id": "609d61fe-5ff2-4217-b09a-751885c066f0",
   "metadata": {
    "tags": []
   },
   "outputs": [],
   "source": [
    "# Load all pages\n",
    "while driver.find_elements(By.TAG_NAME, 'button'):\n",
    "    load_button = WebDriverWait(driver,30).until(EC.presence_of_element_located((By.TAG_NAME, 'button')))\n",
    "    load_button.location_once_scrolled_into_view\n",
    "    load_button.click()"
   ]
  },
  {
   "cell_type": "code",
   "execution_count": 9,
   "id": "15db7a72",
   "metadata": {},
   "outputs": [],
   "source": [
    "# Grab all links\n",
    "a_tags = driver.find_elements(By.TAG_NAME, 'a')\n",
    "links = []\n",
    "for a in a_tags:\n",
    "    link = a.get_attribute('href')\n",
    "    if link.startswith('https://callink.berkeley.edu/organization/'):\n",
    "        links.append(link)"
   ]
  },
  {
   "cell_type": "code",
   "execution_count": 10,
   "id": "9787e2ab",
   "metadata": {},
   "outputs": [],
   "source": [
    "# 'description' is currently html code\n",
    "fields = ['name', 'shortName', 'email', 'description', 'summary', 'status', 'socialMedia', 'primaryContact', 'profilePicture', 'organizationType']"
   ]
  },
  {
   "cell_type": "code",
   "execution_count": 11,
   "id": "1ed42fce",
   "metadata": {},
   "outputs": [],
   "source": [
    "def scrape(URL):\n",
    "    data = {}\n",
    "    page = requests.get(URL)\n",
    "    soup = BeautifulSoup(page.content, \"html.parser\")\n",
    "\n",
    "    extract = soup.findAll('script')[8]\n",
    "    text = extract.string[25:-1]\n",
    "\n",
    "    dictionary = json.loads(text)\n",
    "    orgData = dictionary['preFetchedData']['organization']\n",
    "    for field in fields:\n",
    "        data[field] = orgData[field]\n",
    "    return data\n",
    "    "
   ]
  },
  {
   "cell_type": "code",
   "execution_count": 12,
   "id": "b3094a7d",
   "metadata": {},
   "outputs": [],
   "source": [
    "json_data = []\n",
    "for link in links:\n",
    "    json_data.append(scrape(link))"
   ]
  },
  {
   "cell_type": "code",
   "execution_count": 13,
   "id": "3f8ce064",
   "metadata": {},
   "outputs": [],
   "source": [
    "file_path = \"nectar.json\"\n",
    "\n",
    "# Write the list to a JSON file\n",
    "with open(file_path, 'w') as json_file:\n",
    "    json.dump(json_data, json_file)"
   ]
  },
  {
   "cell_type": "code",
   "execution_count": null,
   "id": "23e925f1",
   "metadata": {},
   "outputs": [],
   "source": []
  }
 ],
 "metadata": {
  "kernelspec": {
   "display_name": "Python 3 (ipykernel)",
   "language": "python",
   "name": "python3"
  },
  "language_info": {
   "codemirror_mode": {
    "name": "ipython",
    "version": 3
   },
   "file_extension": ".py",
   "mimetype": "text/x-python",
   "name": "python",
   "nbconvert_exporter": "python",
   "pygments_lexer": "ipython3",
   "version": "3.9.6"
  }
 },
 "nbformat": 4,
 "nbformat_minor": 5
}
